{
 "cells": [
  {
   "cell_type": "code",
   "execution_count": 2,
   "id": "ca3e4095",
   "metadata": {},
   "outputs": [
    {
     "data": {
      "image/png": "[encoded data removed]",
      "text/plain": [
       "<Figure size 432x288 with 1 Axes>"
      ]
     },
     "metadata": {
      "needs_background": "light"
     },
     "output_type": "display_data"
    }
   ],
   "source": [
    "from PIL import Image\n",
    "import numpy as np\n",
    "w, h = 512, 512\n",
    "data = np. zeros((h, w, 3),dtype=np.uint8)\n",
    "data[120:256, 120:256] = [255, 0, 0] # red patch in upper left.\n",
    "img = Image.fromarray(data,'RGB')\n",
    "img.save('my.png')\n",
    "\n",
    "images=plt.imread('my.png')\n",
    "plt.imshow(images)\n",
    "plt.show()"
   ]
  },
  {
   "cell_type": "code",
   "execution_count": 3,
   "id": "2ce38640",
   "metadata": {},
   "outputs": [
    {
     "data": {
      "image/png": "[encoded data removed]",
      "text/plain": [
       "<Figure size 432x288 with 1 Axes>"
      ]
     },
     "metadata": {
      "needs_background": "light"
     },
     "output_type": "display_data"
    }
   ],
   "source": [
    "import matplotlib.pyplot as plt\n",
    "import numpy as np\n",
    "\n",
    "def forceAspect(ax,aspect=1):\n",
    "    im = ax.get_images()\n",
    "    extent =  im[0].get_extent()\n",
    "    ax.set_aspect(abs((extent[1]-extent[0])/(extent[3]-extent[2]))/aspect)\n",
    "\n",
    "data = np.random.rand(10,20)\n",
    "\n",
    "fig = plt.figure()\n",
    "ax = fig.add_subplot(111)\n",
    "ax.imshow(data)\n",
    "ax.set_xlabel('xlabel')\n",
    "ax.set_aspect(2)\n",
    "fig.savefig('images.jpg')\n",
    "ax.set_aspect('auto')\n",
    "fig.savefig('auto.png')\n",
    "forceAspect(ax,aspect=1)\n",
    "fig.savefig('force.png')"
   ]
  },
  {
   "cell_type": "code",
   "execution_count": 4,
   "id": "2a4f3b11",
   "metadata": {},
   "outputs": [
    {
     "data": {
      "image/png": "[encoded data removed]",
      "text/plain": [
       "<Figure size 432x288 with 1 Axes>"
      ]
     },
     "metadata": {
      "needs_background": "light"
     },
     "output_type": "display_data"
    }
   ],
   "source": [
    "import matplotlib.pyplot as plt\n",
    "import numpy as np\n",
    "\n",
    "data = np.random.rand(10,20)\n",
    "\n",
    "fig = plt.figure()\n",
    "ax = fig.add_subplot(111)\n",
    "ax.imshow(data)\n",
    "ax.set_aspect('equal')\n",
    "fig.savefig('images.jpg')\n",
    "ax.set_aspect('auto')\n",
    "fig.savefig('image1.jpg')"
   ]
  }
 ],
 "metadata": {
  "kernelspec": {
   "display_name": "Python 3 (ipykernel)",
   "language": "python",
   "name": "python3"
  },
  "language_info": {
   "codemirror_mode": {
    "name": "ipython",
    "version": 3
   },
   "file_extension": ".py",
   "mimetype": "text/x-python",
   "name": "python",
   "nbconvert_exporter": "python",
   "pygments_lexer": "ipython3",
   "version": "3.9.7"
  }
 },
 "nbformat": 4,
 "nbformat_minor": 5
}
