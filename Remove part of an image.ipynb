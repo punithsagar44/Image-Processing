{
 "cells": [
  {
   "cell_type": "code",
   "execution_count": 8,
   "id": "ec6fed03",
   "metadata": {},
   "outputs": [],
   "source": [
    "from PIL import Image\n",
    "import numpy as np      \n",
    "  \n",
    "img = Image.open(r\"virat.jpg\").convert('RGB')\n",
    "  \n",
    "img_arr = np.array(img)\n",
    "  \n",
    "img_arr[200 : 400, 300 : 700 ] = (0, 0, 0)\n",
    "  \n",
    "img = Image.fromarray(img_arr)\n",
    "  \n",
    "img.show()"
   ]
  },
  {
   "cell_type": "code",
   "execution_count": null,
   "id": "63ccc97d",
   "metadata": {},
   "outputs": [],
   "source": []
  }
 ],
 "metadata": {
  "kernelspec": {
   "display_name": "Python 3 (ipykernel)",
   "language": "python",
   "name": "python3"
  },
  "language_info": {
   "codemirror_mode": {
    "name": "ipython",
    "version": 3
   },
   "file_extension": ".py",
   "mimetype": "text/x-python",
   "name": "python",
   "nbconvert_exporter": "python",
   "pygments_lexer": "ipython3",
   "version": "3.9.7"
  }
 },
 "nbformat": 4,
 "nbformat_minor": 5
}
