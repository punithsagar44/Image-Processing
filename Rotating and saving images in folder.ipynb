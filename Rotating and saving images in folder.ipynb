{
 "cells": [
  {
   "cell_type": "code",
   "execution_count": 6,
   "id": "3497238b",
   "metadata": {},
   "outputs": [
    {
     "name": "stdout",
     "output_type": "stream",
     "text": [
      "D:\\IP Images\\images rotated\\invert_images (1).jpg\n",
      "D:\\IP Images\\images rotated\\invert_images (2).jpg\n",
      "D:\\IP Images\\images rotated\\invert_images (3).jpg\n",
      "D:\\IP Images\\images rotated\\invert_images (4).jpg\n",
      "D:\\IP Images\\images rotated\\invert_images (5).jpg\n",
      "D:\\IP Images\\images rotated\\invert_images (6).jpg\n",
      "D:\\IP Images\\images rotated\\invert_images.jpg\n"
     ]
    }
   ],
   "source": [
    "\n",
    "from PIL import Image\n",
    "from PIL import ImageFilter\n",
    "import os\n",
    "\n",
    "def main():\n",
    "\t# path of the folder containing the raw images\n",
    "\tinPath =\"D:\\IP Images\\Images\"\n",
    "\n",
    "\t# path of the folder that will contain the modified image\n",
    "\toutPath =\"D:\\IP Images\\images rotated\"\n",
    "\n",
    "\tfor imagePath in os.listdir(inPath):\n",
    "\t\t# imagePath contains name of the image\n",
    "\t\tinputPath = os.path.join(inPath, imagePath)\n",
    "\n",
    "\t\t# inputPath contains the full directory name\n",
    "\t\timg = Image.open(inputPath)\n",
    "\n",
    "\t\tfullOutPath = os.path.join(outPath, 'invert_'+imagePath)\n",
    "\t\t# fullOutPath contains the path of the output\n",
    "\t\t# image that needs to be generated\n",
    "\t\timg.rotate(90).save(fullOutPath)\n",
    "\n",
    "\t\tprint(fullOutPath)\n",
    "\n",
    "# Driver Function\n",
    "if __name__ == '__main__':\n",
    "\tmain()\n"
   ]
  },
  {
   "cell_type": "code",
   "execution_count": null,
   "id": "339ede18",
   "metadata": {},
   "outputs": [],
   "source": []
  }
 ],
 "metadata": {
  "kernelspec": {
   "display_name": "Python 3 (ipykernel)",
   "language": "python",
   "name": "python3"
  },
  "language_info": {
   "codemirror_mode": {
    "name": "ipython",
    "version": 3
   },
   "file_extension": ".py",
   "mimetype": "text/x-python",
   "name": "python",
   "nbconvert_exporter": "python",
   "pygments_lexer": "ipython3",
   "version": "3.9.7"
  }
 },
 "nbformat": 4,
 "nbformat_minor": 5
}
