{
 "cells": [
  {
   "cell_type": "code",
   "execution_count": null,
   "id": "dabe8a42",
   "metadata": {},
   "outputs": [],
   "source": [
    "import cv2\n",
    "from PIL import Image\n",
    "img=cv2.imread('image1.jpg')\n",
    "cv2.imshow('Image',img)\n",
    "cv2.waitKey(0)"
   ]
  },
  {
   "cell_type": "code",
   "execution_count": null,
   "id": "24223f91",
   "metadata": {},
   "outputs": [],
   "source": [
    "height=img.shape[0]\n",
    "width=img.shape[1]\n",
    "channel=img.shape[2]\n",
    "size1=img.size\n",
    "print('Image Height',height)\n",
    "print('Image Width',width)\n",
    "print('Number of Channels',channel)\n",
    "print('Image Size',size1)\n",
    "\n"
   ]
  }
 ],
 "metadata": {
  "kernelspec": {
   "display_name": "Python 3 (ipykernel)",
   "language": "python",
   "name": "python3"
  },
  "language_info": {
   "codemirror_mode": {
    "name": "ipython",
    "version": 3
   },
   "file_extension": ".py",
   "mimetype": "text/x-python",
   "name": "python",
   "nbconvert_exporter": "python",
   "pygments_lexer": "ipython3",
   "version": "3.9.7"
  }
 },
 "nbformat": 4,
 "nbformat_minor": 5
}
