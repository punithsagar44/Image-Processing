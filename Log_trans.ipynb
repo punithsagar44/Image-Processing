{
 "cells": [
  {
   "cell_type": "code",
   "execution_count": null,
   "id": "295ee6a7",
   "metadata": {},
   "outputs": [],
   "source": [
    "import cv2 \n",
    "import numpy as np \n",
    "\n",
    "img = cv2.imread('log.jpg')  \n",
    "c = 255/(np.log(1 + np.max(img))) \n",
    "log_transformed = c * np.log(1 + img) \n",
    "  \n",
    "# Specify the data type. \n",
    "log_transformed = np.array(log_transformed, dtype = np.uint8) \n",
    "  \n",
    "cv2.imwrite('log_transformed.jpg', log_transformed)\n",
    "\n",
    "cv2.imshow('log_transformed',log_transformed)\n",
    "\n",
    "cv2.waitKey(0)\n",
    "cv2.destroyAllWindows()"
   ]
  }
 ],
 "metadata": {
  "kernelspec": {
   "display_name": "Python 3 (ipykernel)",
   "language": "python",
   "name": "python3"
  },
  "language_info": {
   "codemirror_mode": {
    "name": "ipython",
    "version": 3
   },
   "file_extension": ".py",
   "mimetype": "text/x-python",
   "name": "python",
   "nbconvert_exporter": "python",
   "pygments_lexer": "ipython3",
   "version": "3.9.7"
  }
 },
 "nbformat": 4,
 "nbformat_minor": 5
}
