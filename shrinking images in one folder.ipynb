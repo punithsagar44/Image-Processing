{
 "cells": [
  {
   "cell_type": "code",
   "execution_count": null,
   "id": "77316831",
   "metadata": {},
   "outputs": [
    {
     "name": "stdout",
     "output_type": "stream",
     "text": [
      "Shrink images in the folder\n"
     ]
    }
   ],
   "source": [
    "from PIL import Image\n",
    "import os\n",
    "\n",
    "print(\"Shrink images in the folder\")\n",
    "folder = input(\"D:\\same format\\jpg\")\n",
    "w = int(input(\"width:200\"))\n",
    "h = int(input(\"height:400 \"))\n",
    "for i in os.listdir(folder):\n",
    "    file = f\"{folder}\\\\{i}\"\n",
    "    im = Image.open(file)\n",
    "    im = im.resize((w, h), Image.ANTIALIAS)\n",
    "    im.save(file)"
   ]
  }
 ],
 "metadata": {
  "kernelspec": {
   "display_name": "Python 3 (ipykernel)",
   "language": "python",
   "name": "python3"
  },
  "language_info": {
   "codemirror_mode": {
    "name": "ipython",
    "version": 3
   },
   "file_extension": ".py",
   "mimetype": "text/x-python",
   "name": "python",
   "nbconvert_exporter": "python",
   "pygments_lexer": "ipython3",
   "version": "3.9.7"
  }
 },
 "nbformat": 4,
 "nbformat_minor": 5
}
