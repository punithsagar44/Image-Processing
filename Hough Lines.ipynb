{
 "cells": [
  {
   "cell_type": "code",
   "execution_count": 1,
   "id": "cd2da316",
   "metadata": {},
   "outputs": [
    {
     "name": "stdout",
     "output_type": "stream",
     "text": [
      "number of Hough lines: 30\n"
     ]
    }
   ],
   "source": [
    "import cv2\n",
    "import numpy as np\n",
    "\n",
    "img = cv2.imread('sudoku.jpg')\n",
    "gray = cv2.cvtColor(img,cv2.COLOR_BGR2GRAY)\n",
    "cv2.imshow('gray',gray)\n",
    "cv2.waitKey(0) \n",
    "\n",
    "edges = cv2.Canny(gray,20,100,apertureSize = 3)\n",
    "cv2.imshow('canny',edges)\n",
    "cv2.imwrite('canny.jpg',edges)\n",
    "cv2.waitKey(0)\n",
    "\n",
    "kernel = np.ones((3,3),np.uint8)\n",
    "edges = cv2.dilate(edges,kernel,iterations = 1)\n",
    "cv2.imshow('dilate',edges)\n",
    "cv2.imwrite('dilate.jpg', edges)\n",
    "cv2.waitKey(0)\n",
    "\n",
    "kernel = np.ones((5,5),np.uint8)\n",
    "edges = cv2.erode(edges,kernel,iterations = 1)\n",
    "cv2.imshow('erode',edges)\n",
    "cv2.imwrite('erode.jpg', edges)\n",
    "cv2.waitKey(0)\n",
    "\n",
    "lines = cv2.HoughLines(edges,1,np.pi/180,150)\n",
    "print('number of Hough lines:', len(lines))\n",
    "\n",
    "\n",
    "for line in lines:\n",
    "    rho,theta = line[0]\n",
    "    a = np.cos(theta)\n",
    "    b = np.sin(theta)\n",
    "    x0 = a*rho\n",
    "    y0 = b*rho\n",
    "    x1 = int(x0 + 1000*(-b))\n",
    "    y1 = int(y0 + 1000*(a))\n",
    "    x2 = int(x0 - 1000*(-b))\n",
    "    y2 = int(y0 - 1000*(a))\n",
    "\n",
    "    cv2.line(img,(x1,y1),(x2,y2),(0,0,255),2)\n",
    "\n",
    "cv2.imshow('hough.jpg',img)\n",
    "cv2.imwrite('hough.jpg',img)\n",
    "cv2.waitKey(0)\n",
    "cv2.destroyAllWindows()"
   ]
  },
  {
   "cell_type": "code",
   "execution_count": null,
   "id": "0d9dd5a3",
   "metadata": {},
   "outputs": [],
   "source": []
  }
 ],
 "metadata": {
  "kernelspec": {
   "display_name": "Python 3 (ipykernel)",
   "language": "python",
   "name": "python3"
  },
  "language_info": {
   "codemirror_mode": {
    "name": "ipython",
    "version": 3
   },
   "file_extension": ".py",
   "mimetype": "text/x-python",
   "name": "python",
   "nbconvert_exporter": "python",
   "pygments_lexer": "ipython3",
   "version": "3.9.7"
  }
 },
 "nbformat": 4,
 "nbformat_minor": 5
}
