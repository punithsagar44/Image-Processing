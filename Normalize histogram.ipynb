{
 "cells": [
  {
   "cell_type": "code",
   "execution_count": 1,
   "id": "6e51ab5e",
   "metadata": {},
   "outputs": [],
   "source": [
    "import cv2 as cv\n",
    "path = 'histogram.png'\n",
    "img = cv.imread(path)\n",
    "img = cv.resize(img, (800, 800))\n",
    "cv.normalize(img, None, 0, 255, cv.NORM_L1)\n",
    "cv.imshow('dst_rt', img)\n",
    "cv.imwrite('norm.png', img)\n",
    "cv.waitKey(0)\n",
    "cv.destroyAllWindows()"
   ]
  },
  {
   "cell_type": "code",
   "execution_count": null,
   "id": "c99a03c2",
   "metadata": {},
   "outputs": [],
   "source": []
  }
 ],
 "metadata": {
  "kernelspec": {
   "display_name": "Python 3 (ipykernel)",
   "language": "python",
   "name": "python3"
  },
  "language_info": {
   "codemirror_mode": {
    "name": "ipython",
    "version": 3
   },
   "file_extension": ".py",
   "mimetype": "text/x-python",
   "name": "python",
   "nbconvert_exporter": "python",
   "pygments_lexer": "ipython3",
   "version": "3.9.7"
  }
 },
 "nbformat": 4,
 "nbformat_minor": 5
}
