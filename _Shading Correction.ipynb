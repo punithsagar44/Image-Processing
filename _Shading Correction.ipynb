{
 "cells": [
  {
   "cell_type": "code",
   "execution_count": null,
   "id": "71c0d975",
   "metadata": {},
   "outputs": [],
   "source": [
    "import cv2\n",
    "\n",
    "img = cv2.imread('ChessBoardGrad.png')\n",
    "grayImg = cv2.cvtColor(img, cv2.COLOR_BGR2GRAY)\n",
    "cv2.imshow('Gray Image', grayImg)\n",
    "cv2.waitKey(0)\n",
    "filtersize = 513\n",
    "gaussianImg = cv2.GaussianBlur(grayImg, (filtersize, filtersize), 128)\n",
    "cv2.imshow('Converted Image', gaussianImg)\n",
    "cv2.waitKey(0)\n",
    "newImg = (grayImg-gaussianImg)\n",
    "cv2.imshow('New Image', newImg)\n",
    "cv2.imwrite('Converted.png', newImg)\n",
    "cv2.waitKey(0)\n",
    "cv2.destroyAllWindows()"
   ]
  }
 ],
 "metadata": {
  "kernelspec": {
   "display_name": "Python 3 (ipykernel)",
   "language": "python",
   "name": "python3"
  },
  "language_info": {
   "codemirror_mode": {
    "name": "ipython",
    "version": 3
   },
   "file_extension": ".py",
   "mimetype": "text/x-python",
   "name": "python",
   "nbconvert_exporter": "python",
   "pygments_lexer": "ipython3",
   "version": "3.9.7"
  }
 },
 "nbformat": 4,
 "nbformat_minor": 5
}
