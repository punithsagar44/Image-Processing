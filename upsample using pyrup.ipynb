{
 "cells": [
  {
   "cell_type": "code",
   "execution_count": null,
   "id": "131003b4",
   "metadata": {},
   "outputs": [
    {
     "name": "stdout",
     "output_type": "stream",
     "text": [
      "Size of the image before pyrUp : (634, 950, 3)\n"
     ]
    }
   ],
   "source": [
    "import cv2\n",
    "\n",
    "img=cv2.imread(\"virat.jpg\")\n",
    "print(\"Size of the image before pyrUp :\",img.shape)\n",
    "cv2.imshow(\"img\",img)\n",
    "cv2.waitKey(0)\n",
    "cv2.destroyAllWindows()"
   ]
  },
  {
   "cell_type": "code",
   "execution_count": null,
   "id": "13f7418a",
   "metadata": {},
   "outputs": [],
   "source": [
    "img=cv2.pyrUp(img)\n",
    "print(\"Size of the image after pyrUp :\",img.shape)\n",
    "cv2.imshow(\"UpSample\",img)\n",
    "cv2.waitKey(0)\n",
    "cv2.destroyAllWindows()\n"
   ]
  }
 ],
 "metadata": {
  "kernelspec": {
   "display_name": "Python 3 (ipykernel)",
   "language": "python",
   "name": "python3"
  },
  "language_info": {
   "codemirror_mode": {
    "name": "ipython",
    "version": 3
   },
   "file_extension": ".py",
   "mimetype": "text/x-python",
   "name": "python",
   "nbconvert_exporter": "python",
   "pygments_lexer": "ipython3",
   "version": "3.9.7"
  }
 },
 "nbformat": 4,
 "nbformat_minor": 5
}
