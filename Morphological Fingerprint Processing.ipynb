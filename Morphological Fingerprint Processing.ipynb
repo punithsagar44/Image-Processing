{
 "cells": [
  {
   "cell_type": "code",
   "execution_count": null,
   "id": "52f4a7e1",
   "metadata": {},
   "outputs": [],
   "source": [
    "import cv2\n",
    "import numpy as np\n",
    "\n",
    "img = cv2.imread('111.jpg',0)\n",
    "img2 = cv2.imread('9-p.jpg',0)\n",
    "kernel = np.ones((5,5), np.uint8)\n",
    "kernel2 = np.ones((7,7), np.uint8)\n",
    "kernel3 = np.array((\n",
    "\t[0, 1, 0],\n",
    "\t[1, 1, 1],\n",
    "\t[0, 1, 0]),dtype='uint8')\n",
    "\n",
    "img_opening = cv2.morphologyEx(img, cv2.MORPH_OPEN, kernel)\n",
    "img_closing = cv2.morphologyEx(img, cv2.MORPH_CLOSE, kernel)\n",
    "\n",
    "img_erosion = cv2.erode(img, kernel3, iterations=1)\n",
    "img_dilation = cv2.dilate(img_erosion, kernel3, iterations=1)\n",
    "img_opening3 = cv2.morphologyEx(img_dilation, cv2.MORPH_OPEN, kernel2)\n",
    "img_closing2 = cv2.morphologyEx(img_dilation, cv2.MORPH_CLOSE, kernel)\n",
    "img_opening2 = cv2.morphologyEx(img_closing2, cv2.MORPH_OPEN, kernel3)\n",
    "\n",
    "\n",
    "opening = cv2.morphologyEx(img, cv2.MORPH_OPEN, kernel)\n",
    "close = cv2.morphologyEx(opening, cv2.MORPH_CLOSE, kernel)\n",
    "\n",
    "cv2.imshow('Input', img) \n",
    "cv2.imshow('Opening', img_opening)\n",
    "cv2.imshow('Closing', img_closing)\n",
    "cv2.imshow('Erosion Plus Dilation', img_dilation)\n",
    "cv2.imshow('Erode + Dilate + Close',img_closing2)\n",
    "cv2.imshow('Processed',img_closing2)\n",
    "cv2.imshow('Final-Comparision Image', img2) \n",
    "cv2.imshow('Improved', close) \n",
    "\n",
    "\n",
    "cv2.imwrite('Input.png', img) \n",
    "cv2.imwrite('Opening.png', img_opening)\n",
    "cv2.imwrite('Closing.png', img_closing)\n",
    "cv2.imwrite('ErosionPlusDilation.png', img_dilation)\n",
    "cv2.imwrite('ErodeDilateClose.png',img_closing2)\n",
    "cv2.imwrite('Processed.png',img_closing2)\n",
    "cv2.imwrite('Final-ComparisionImage.png', img2) \n",
    "cv2.imwrite('Improved.png', close) \n",
    "\n",
    "cv2.waitKey(0)\n",
    "cv2.destroyAllWindows()"
   ]
  }
 ],
 "metadata": {
  "kernelspec": {
   "display_name": "Python 3 (ipykernel)",
   "language": "python",
   "name": "python3"
  },
  "language_info": {
   "codemirror_mode": {
    "name": "ipython",
    "version": 3
   },
   "file_extension": ".py",
   "mimetype": "text/x-python",
   "name": "python",
   "nbconvert_exporter": "python",
   "pygments_lexer": "ipython3",
   "version": "3.9.7"
  }
 },
 "nbformat": 4,
 "nbformat_minor": 5
}
